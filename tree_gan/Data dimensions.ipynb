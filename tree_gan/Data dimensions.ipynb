{
 "cells": [
  {
   "cell_type": "code",
   "execution_count": 1,
   "metadata": {},
   "outputs": [],
   "source": [
    "import numpy as np"
   ]
  },
  {
   "cell_type": "code",
   "execution_count": 2,
   "metadata": {},
   "outputs": [
    {
     "name": "stdout",
     "output_type": "stream",
     "text": [
      "Data dimensions.ipynb             losses.py\r\n",
      "README.md                         model-training.ipynb\r\n",
      "Untitled.ipynb                    models.py\r\n",
      "create_cropped_imgs_acdc.py       preprocessing.ipynb\r\n",
      "\u001b[34mdata\u001b[m\u001b[m/                             requirements.txt\r\n",
      "dataloaders.py                    test.txt\r\n",
      "\u001b[34mexperiment_init\u001b[m\u001b[m/                  \u001b[34mtrain_model\u001b[m\u001b[m/\r\n",
      "f1_utils.py                       treegan_workspace.code-workspace\r\n",
      "layers_bn.py                      utils.py\r\n"
     ]
    }
   ],
   "source": [
    "%ls\n"
   ]
  },
  {
   "cell_type": "code",
   "execution_count": 9,
   "metadata": {
    "scrolled": true
   },
   "outputs": [],
   "source": [
    "lab_x_mini = np.load('data/gan_processed_data_original/lab_x_mini.npy')\n",
    "lab_y_mini = np.load('data/gan_processed_data_original/lab_y_mini.npy')\n",
    "val_x_mini = np.load('data/gan_processed_data_original/val_x_mini.npy')\n",
    "val_y_mini = np.load('data/gan_processed_data_original/val_y_mini.npy')\n",
    "unlab_x_mini = np.load('data/gan_processed_data_original/unlab_x_mini.npy')"
   ]
  },
  {
   "cell_type": "code",
   "execution_count": 10,
   "metadata": {},
   "outputs": [
    {
     "name": "stdout",
     "output_type": "stream",
     "text": [
      "(20, 24, 16, 16, 16)\n",
      "(20, 14, 14)\n",
      "(20, 24, 16, 16, 16)\n",
      "(20, 14, 14)\n",
      "(30, 24, 16, 16, 16)\n"
     ]
    }
   ],
   "source": [
    "print(lab_x_mini.shape)\n",
    "print(lab_y_mini.shape)\n",
    "print(val_x_mini.shape)\n",
    "print(val_y_mini.shape)\n",
    "print(unlab_x_mini.shape)"
   ]
  },
  {
   "cell_type": "markdown",
   "metadata": {},
   "source": [
    "I am just adjusting the data Lucien created to match that of their network:\n",
    "1. The multiple images stacked on top of each other is their last dimension - whereas in the npy from Lucien it is the first\n",
    "    - this is something that we should fix at the data generation point this is just a patch that can be removed if Lucien regenarates the data concatenating it on the last dimension\n",
    "2. I am picking one of our time dimensions\n",
    "3. I am picking one of our 16 bands for now - haven't gotten to seeing how the code would handle it if I set num_channels = 16, so want to just get it to run like this first\n",
    "4. I am removing a pixel around the rim - not sure why our inputs are 16x16 but our masks are 14x14, but don't want that to trip it up for now\n",
    "\n",
    "    #L: the masks represent the labels, so our tree labels are 14x14 instead of the input dimensions of 16x16. This is something unique to our data, I'd imagine in their case (and most cases for segmentation) the dimensionality of the labels and the input data is the same. So we will have to adjust the architecture to allow for this.\n",
    "    \n",
    "    #L: we need to get the input back to 16x16 because all the convolutional arithmetic depends on that. will change mask to 16x16 for now and keep in mind that we need to fix that to 14x14 and address that in the GAN code.\n",
    "    \n",
    "    - though they have some mechanism for fixing this in utils.load_val_images, where they append 0's to match the image sizes, but not sure why their image dimensions don't match either... and that part is also commented out for now\n",
    "5. we might have to adjust the size of this tiny toy dataset to be a little bit bigger\n",
    " - see my comment titled: \"#D: we might have to adjust this if our mini sample is too small compared to batch size\" \n",
    "     - I got rid of code that would duplicate data if the input dataset is too small, so if you get far enough in the training this might become a problem \n",
    "     - so I am letting you know here so you know that is the problem when you get to an error that might be caused by it / maybe = even better: we should just feed it a little bit of a bigger dataset. The batch_size = 20, so let's jsut feed it more than that - I think we will do that anyway, we are not connerned about proving that it works with a super tiny training sample"
   ]
  },
  {
   "cell_type": "code",
   "execution_count": 11,
   "metadata": {},
   "outputs": [],
   "source": [
    "#L: todo later, we need to make sure we are selecting a single band and not a single x/y value,\n",
    "#I forget how the data is originally structured\n",
    "lab_x_mini2 = np.moveaxis(lab_x_mini,0,-1)[0,:,:,3,:]\n",
    "val_x_mini2 = np.moveaxis(val_x_mini,0,-1)[0,:,:,3,:]\n",
    "unlab_x_mini2 = np.moveaxis(unlab_x_mini,0,-1)[0,:,:,3,:]\n",
    "npad = ((1, 1), (1, 1), (0, 0))\n",
    "lab_y_mini2 = np.pad(np.moveaxis(lab_y_mini,0,-1), pad_width = npad, mode = 'constant')\n",
    "val_y_mini2 = np.pad(np.moveaxis(val_y_mini,0,-1), pad_width = npad, mode = 'constant')"
   ]
  },
  {
   "cell_type": "code",
   "execution_count": 12,
   "metadata": {},
   "outputs": [
    {
     "name": "stdout",
     "output_type": "stream",
     "text": [
      "(16, 16, 20)\n",
      "(16, 16, 20)\n",
      "(16, 16, 20)\n",
      "(16, 16, 20)\n",
      "(16, 16, 30)\n"
     ]
    }
   ],
   "source": [
    "print(lab_x_mini2.shape)\n",
    "print(lab_y_mini2.shape)\n",
    "print(val_x_mini2.shape)\n",
    "print(val_y_mini2.shape)\n",
    "print(unlab_x_mini2.shape)"
   ]
  },
  {
   "cell_type": "code",
   "execution_count": 7,
   "metadata": {},
   "outputs": [],
   "source": [
    "#L: Old turning everything to 14x14\n",
    "#lab_x_mini = np.moveaxis(lab_x_mini,0,-1)[0,1:-1,1:-1,3,:]\n",
    "#lab_y_mini = np.moveaxis(lab_y_mini,0,-1)\n",
    "#unlab_x_mini = np.moveaxis(unlab_x_mini,0,-1)[0,1:-1,1:-1,3,:]"
   ]
  },
  {
   "cell_type": "code",
   "execution_count": 13,
   "metadata": {},
   "outputs": [],
   "source": [
    "np.save('data/gan_processed_data/lab_x_mini.npy', lab_x_mini2)\n",
    "np.save('data/gan_processed_data/lab_y_mini.npy', lab_y_mini2)\n",
    "np.save('data/gan_processed_data/val_x_mini.npy', val_x_mini2)\n",
    "np.save('data/gan_processed_data/val_y_mini.npy', val_y_mini2)\n",
    "np.save('data/gan_processed_data/unlab_x_mini.npy', unlab_x_mini2)"
   ]
  }
 ],
 "metadata": {
  "kernelspec": {
   "display_name": "Python 3",
   "language": "python",
   "name": "python3"
  },
  "language_info": {
   "codemirror_mode": {
    "name": "ipython",
    "version": 3
   },
   "file_extension": ".py",
   "mimetype": "text/x-python",
   "name": "python",
   "nbconvert_exporter": "python",
   "pygments_lexer": "ipython3",
   "version": "3.7.4"
  }
 },
 "nbformat": 4,
 "nbformat_minor": 2
}
